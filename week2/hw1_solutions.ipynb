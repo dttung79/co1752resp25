{
 "cells": [
  {
   "cell_type": "code",
   "execution_count": 17,
   "metadata": {},
   "outputs": [
    {
     "name": "stdout",
     "output_type": "stream",
     "text": [
      "<zip object at 0x10651a3c0>\n",
      "[(1, 'a'), (2, 'b'), (3, 'c')]\n"
     ]
    }
   ],
   "source": [
    "a = [1, 2, 3]\n",
    "b = ['a', 'b', 'c']\n",
    "c = zip(a, b)\n",
    "print(c)    # c is a generator object returned by zip function\n",
    "print(list(c))"
   ]
  },
  {
   "cell_type": "code",
   "execution_count": 18,
   "metadata": {},
   "outputs": [
    {
     "name": "stdout",
     "output_type": "stream",
     "text": [
      "[(0, 1), (1, 2), (2, 3)]\n",
      "[(0, 'a'), (1, 'b'), (2, 'c')]\n",
      "[(1, 'a'), (2, 'b'), (3, 'c')]\n",
      "<enumerate object at 0x10647fa60>\n",
      "[(0, (1, 'a')), (1, (2, 'b')), (2, (3, 'c'))]\n"
     ]
    }
   ],
   "source": [
    "d = enumerate(a)\n",
    "print(list(d))\n",
    "e = enumerate(b)\n",
    "print(list(e))\n",
    "e = enumerate(b, 1)\n",
    "print(list(e))\n",
    "f = enumerate(zip(a, b))\n",
    "print(f)    # f is a generator object returned by enumerate function\n",
    "print(list(f))"
   ]
  },
  {
   "cell_type": "code",
   "execution_count": 22,
   "metadata": {},
   "outputs": [
    {
     "name": "stdout",
     "output_type": "stream",
     "text": [
      "1. Burger:  $5.0\n",
      "2. Fries:  $3.0\n",
      "3. Soda:  $2.0\n"
     ]
    }
   ],
   "source": [
    "items = [\"Burger\", \"Fries\", \"Soda\"]\n",
    "prices = [5.00, 3.00, 2.00]\n",
    "\n",
    "for i in range(len(items)):\n",
    "    print(f'{i+1}. {items[i]}:  ${prices[i]}')"
   ]
  },
  {
   "cell_type": "code",
   "execution_count": 25,
   "metadata": {},
   "outputs": [
    {
     "name": "stdout",
     "output_type": "stream",
     "text": [
      "Error: lists must be the same length\n",
      "----- RECEIPT -----\n",
      "1. Burger: $5.0\n",
      "2. Fries: $3.0\n",
      "3. Soda: $2.0\n",
      "Total: $10.0\n"
     ]
    }
   ],
   "source": [
    "def print_receipt(items, prices):\n",
    "    # defense\n",
    "    if len(items) != len(prices):\n",
    "        print(\"Error: lists must be the same length\")\n",
    "        return\n",
    "    # attack\n",
    "    print('----- RECEIPT -----')\n",
    "    for i, item in enumerate(items):\n",
    "        print(f'{i+1}. {item}: ${prices[i]}')\n",
    "\n",
    "    total = 0\n",
    "    for price in prices:\n",
    "        total += price\n",
    "    \n",
    "    print(f'Total: ${total}')\n",
    "\n",
    "\n",
    "items = [\"Burger\", \"Fries\", \"Soda\"]\n",
    "prices = [5.00, 3.00]\n",
    "print_receipt(items, prices)\n",
    "prices = [5.00, 3.00, 2.00]\n",
    "print_receipt(items, prices)"
   ]
  }
 ],
 "metadata": {
  "kernelspec": {
   "display_name": "Python 3",
   "language": "python",
   "name": "python3"
  },
  "language_info": {
   "codemirror_mode": {
    "name": "ipython",
    "version": 3
   },
   "file_extension": ".py",
   "mimetype": "text/x-python",
   "name": "python",
   "nbconvert_exporter": "python",
   "pygments_lexer": "ipython3",
   "version": "3.13.2"
  }
 },
 "nbformat": 4,
 "nbformat_minor": 2
}
