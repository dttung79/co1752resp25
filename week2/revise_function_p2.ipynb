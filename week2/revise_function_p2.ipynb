{
 "cells": [
  {
   "cell_type": "code",
   "execution_count": 1,
   "metadata": {},
   "outputs": [
    {
     "name": "stdout",
     "output_type": "stream",
     "text": [
      "Nguyen Le Minh\n",
      "Hoang Van Hieu\n",
      "Nguyen Trong Nhan\n",
      "Le Duc Tho\n"
     ]
    }
   ],
   "source": [
    "# Function that take lists as arguments.\n",
    "names = ['Nguyen Le Minh', 'Hoang Van Hieu', 'Nguyen Trong Nhan', 'Le Duc Tho']\n",
    "\n",
    "# Ex1: Write a function that prints all the names in a list\n",
    "\n",
    "def print_names(names):\n",
    "    for name in names:\n",
    "        print(name)\n",
    "\n",
    "print_names(names)"
   ]
  },
  {
   "cell_type": "code",
   "execution_count": null,
   "metadata": {},
   "outputs": [],
   "source": [
    "# Ex2: print names with their order in the list\n",
    "# Solution 1: using range\n",
    "def print_names(names):\n",
    "    for i in range(len(names)):\n",
    "        print(f'{i+1}. {names[i]}')\n",
    "    \n",
    "print_names(names)\n",
    "\n",
    "# Solution 2: using enumerate\n",
    "def print_names(names):\n",
    "    for i, name in enumerate(names):\n",
    "        print(f'{i+1}. {name}')\n",
    "\n",
    "print_names(names)"
   ]
  },
  {
   "cell_type": "code",
   "execution_count": null,
   "metadata": {},
   "outputs": [],
   "source": [
    "names = ['Nguyen Le Minh', 'Do Thi Ha', 'Hoang Van Hieu', 'Nguyen Trong Nhan', 'Le Duc Tho', 'Hoang Mai']\n",
    "# Ex3: Write a function that print long names (name with length >= 12)\n",
    "def print_long_names(names):\n",
    "    i = 0\n",
    "    for name in names:\n",
    "        if len(name) >= 12:\n",
    "            i += 1\n",
    "            print(f'{i}. {name}')\n",
    "print_names(names)\n",
    "print('Long names:')\n",
    "print_long_names(names)"
   ]
  },
  {
   "cell_type": "code",
   "execution_count": null,
   "metadata": {},
   "outputs": [
    {
     "name": "stdout",
     "output_type": "stream",
     "text": [
      "Burger: $5.0\n",
      "Fries: $3.0\n",
      "Soda: $2.0\n",
      "Salad: $4.0\n",
      "Steak: $8.0\n",
      "Ice Cream: $6.0\n",
      "Expensive items:\n",
      "Burger: $5.0\n",
      "Steak: $8.0\n",
      "Ice Cream: $6.0\n"
     ]
    }
   ],
   "source": [
    "items = [\"Burger\", \"Fries\", \"Soda\", \"Salad\", \"Steak\", \"Ice Cream\"]\n",
    "prices = [5.00, 3.00, 2.00, 4.00, 8.00, 6.00]\n",
    "# Ex4: Write a function that print the expensive items (price >= 5.00)\n",
    "def print_items(items, prices):\n",
    "    for i in range(len(items)):\n",
    "        print(f'{items[i]}: ${prices[i]}')\n",
    "\n",
    "print_items(items, prices)\n",
    "\n",
    "def print_expensive_items(items, prices):\n",
    "    for i in range(len(items)):\n",
    "        if prices[i] >= 5:\n",
    "            print(f'{items[i]}: ${prices[i]}')\n",
    "\n",
    "print('Expensive items:')\n",
    "print_expensive_items(items, prices)"
   ]
  },
  {
   "cell_type": "code",
   "execution_count": null,
   "metadata": {},
   "outputs": [],
   "source": [
    "# Ex5: Write a function that print the cheap items (price < 5.00)\n",
    "def print_cheap_items(items, prices):\n",
    "    for i in range(len(items)):\n",
    "        if prices[i] < 5:\n",
    "            print(f'{items[i]}: ${prices[i]}')\n",
    "\n",
    "print('Cheap items:')\n",
    "print_cheap_items(items, prices)"
   ]
  },
  {
   "cell_type": "code",
   "execution_count": null,
   "metadata": {},
   "outputs": [],
   "source": [
    "# Ex6: Write a function that print the cheap items (price < 5.00) with total price\n",
    "def print_cheap_items(items, prices):\n",
    "    total = 0\n",
    "    for i in range(len(items)):\n",
    "        if prices[i] < 5:\n",
    "            total += prices[i]\n",
    "            print(f'{items[i]}: ${prices[i]}')\n",
    "    print(f'Total cheap items: ${total}')\n",
    "\n",
    "print('Cheap items:')\n",
    "print_cheap_items(items, prices)"
   ]
  },
  {
   "cell_type": "code",
   "execution_count": 12,
   "metadata": {},
   "outputs": [
    {
     "name": "stdout",
     "output_type": "stream",
     "text": [
      "Soda: $2.0\n",
      "Coke not found!\n"
     ]
    }
   ],
   "source": [
    "# Ex7: Write a function search_items(items, prices, keyword) that print item (price) that equals keyword\n",
    "def search_item(items, prices, keyword):\n",
    "    for i in range(len(items)):\n",
    "        if keyword == items[i]:\n",
    "            print(f'{items[i]}: ${prices[i]}')\n",
    "            return\n",
    "    print(f'{keyword} not found!')\n",
    "\n",
    "search_item(items, prices, 'Soda')\n",
    "search_item(items, prices, 'Coke')"
   ]
  },
  {
   "cell_type": "code",
   "execution_count": 17,
   "metadata": {},
   "outputs": [
    {
     "name": "stdout",
     "output_type": "stream",
     "text": [
      "Item with price $7.0 not found!\n",
      "Fries: $3.0\n",
      "Soda: $3.0\n"
     ]
    }
   ],
   "source": [
    "items = [\"Burger\", \"Fries\", \"Soda\", \"Salad\", \"Steak\", \"Ice Cream\"]\n",
    "prices = [5.00, 3.00, 3.00, 4.00, 8.00, 6.00]\n",
    "# Ex8: Write a function search_items(items, prices, search_price) that print item that has price equals search_price\n",
    "def search_items(items, prices, search_price):\n",
    "    found = False\n",
    "    for i in range(len(items)):\n",
    "        if search_price == prices[i]:\n",
    "            found = True\n",
    "            print(f'{items[i]}: ${prices[i]}')\n",
    "    \n",
    "    if not found:\n",
    "        print(f'Item with price ${search_price} not found!')\n",
    "\n",
    "search_items(items, prices, 7.00)\n",
    "search_items(items, prices, 3.00)"
   ]
  },
  {
   "cell_type": "code",
   "execution_count": null,
   "metadata": {},
   "outputs": [],
   "source": [
    "tasks = [\"Email\", \"Meeting\", \"Coding\", \"Review\", \"Lunch\", \"Report\", \"Call\", \"Research\", \"Presentation\", \"Planning\"]\n",
    "times = [30, 45, 60, 20, 50, 40, 35, 25, 55, 65]\n",
    "\n",
    "print(\"Tasks:\", tasks)\n",
    "print(\"Times:\", times)"
   ]
  }
 ],
 "metadata": {
  "kernelspec": {
   "display_name": "Python 3",
   "language": "python",
   "name": "python3"
  },
  "language_info": {
   "codemirror_mode": {
    "name": "ipython",
    "version": 3
   },
   "file_extension": ".py",
   "mimetype": "text/x-python",
   "name": "python",
   "nbconvert_exporter": "python",
   "pygments_lexer": "ipython3",
   "version": "3.13.2"
  }
 },
 "nbformat": 4,
 "nbformat_minor": 2
}
