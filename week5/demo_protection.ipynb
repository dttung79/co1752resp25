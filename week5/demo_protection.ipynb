{
 "cells": [
  {
   "cell_type": "code",
   "execution_count": 1,
   "metadata": {},
   "outputs": [],
   "source": [
    "# ATTRIBUTE PROTECTION: public, protected, private\n",
    "# public: accessible from anywhere\n",
    "# protected: accessible from the class and its subclasses\n",
    "# private: accessible only from the class\n",
    "class Animal:\n",
    "    # constructor\n",
    "    def __init__(self, name):   \n",
    "        self.name = name    # define an PUBLIC attribute name\n",
    "        self.__age = 0      # define an PRIVATE attribute age\n",
    "    # normal method\n",
    "    def speak(self):\n",
    "        print(f'{self.name}: I am an animal, I am {self.__age} years old')"
   ]
  },
  {
   "cell_type": "code",
   "execution_count": 2,
   "metadata": {},
   "outputs": [
    {
     "name": "stdout",
     "output_type": "stream",
     "text": [
      "Dog: I am an animal, I am 0 years old\n"
     ]
    }
   ],
   "source": [
    "dog = Animal('Dog')\n",
    "dog.speak()"
   ]
  },
  {
   "cell_type": "code",
   "execution_count": 8,
   "metadata": {},
   "outputs": [
    {
     "name": "stdout",
     "output_type": "stream",
     "text": [
      "Poodle: I am an animal, I am 0 years old\n"
     ]
    }
   ],
   "source": [
    "dog.name = 'Poodle'\n",
    "dog.speak()"
   ]
  },
  {
   "cell_type": "code",
   "execution_count": null,
   "metadata": {},
   "outputs": [
    {
     "name": "stdout",
     "output_type": "stream",
     "text": [
      "Poodle: I am an animal, I am 0 years old\n",
      "5\n",
      "Poodle: I am an animal, I am 0 years old\n"
     ]
    }
   ],
   "source": [
    "dog.__age = 5       # this does not change the private attribute __age\n",
    "dog.speak()\n",
    "print(dog.__age)    # this is not the private attribute\n",
    "dog.speak()         # the private attribute is still 0"
   ]
  },
  {
   "cell_type": "code",
   "execution_count": null,
   "metadata": {},
   "outputs": [
    {
     "name": "stdout",
     "output_type": "stream",
     "text": [
      ": I am an animal, I am 0 years old\n"
     ]
    }
   ],
   "source": [
    "dog.name = ''    # because name is public, outside can change it to anything\n",
    "dog.speak()"
   ]
  },
  {
   "cell_type": "code",
   "execution_count": 17,
   "metadata": {},
   "outputs": [],
   "source": [
    "class Animal:\n",
    "    def __init__(self, name, age):\n",
    "        self.__name = name  # private attribute\n",
    "        self.__age = age    # private attribute\n",
    "    \n",
    "    def speak(self):\n",
    "        print(f'{self.__name}: I am an animal, I am {self.__age} years old')\n",
    "    \n",
    "    # provide getter with better control, now outside cannot change the name to empty string\n",
    "    def set_name(self, name):\n",
    "        if name == '':\n",
    "            print('Name cannot be empty')\n",
    "            #self.__name = 'Unknown'\n",
    "        else:\n",
    "            self.__name = name\n",
    "    \n",
    "    def get_name(self):\n",
    "        return self.__name\n",
    "    \n",
    "    # similar, outside cannot change the age to negative\n",
    "    def set_age(self, age):\n",
    "        if age < 0:\n",
    "            print('Age cannot be negative')\n",
    "            #self.__age = 0\n",
    "        else:\n",
    "            self.__age = age\n",
    "    \n",
    "    def get_age(self):\n",
    "        return self.__age"
   ]
  },
  {
   "cell_type": "code",
   "execution_count": 18,
   "metadata": {},
   "outputs": [
    {
     "name": "stdout",
     "output_type": "stream",
     "text": [
      "Dog: I am an animal, I am 5 years old\n",
      "Poodle: I am an animal, I am 6 years old\n"
     ]
    }
   ],
   "source": [
    "# create an animal\n",
    "dog = Animal('Dog', 5)\n",
    "dog.speak()\n",
    "dog.set_name('Poodle')\n",
    "dog.set_age(6)\n",
    "dog.speak()"
   ]
  },
  {
   "cell_type": "code",
   "execution_count": 19,
   "metadata": {},
   "outputs": [
    {
     "name": "stdout",
     "output_type": "stream",
     "text": [
      "Name cannot be empty\n",
      "Poodle: I am an animal, I am 6 years old\n",
      "Age cannot be negative\n",
      "Poodle: I am an animal, I am 6 years old\n"
     ]
    }
   ],
   "source": [
    "dog.set_name('')\n",
    "dog.speak()\n",
    "dog.set_age(-1)\n",
    "dog.speak()"
   ]
  },
  {
   "cell_type": "code",
   "execution_count": null,
   "metadata": {},
   "outputs": [],
   "source": [
    "# Create a class Car with the following private attributes:\n",
    "# - brand\n",
    "# - model\n",
    "# - mileage\n",
    "# provide getter and setter for each attribute"
   ]
  }
 ],
 "metadata": {
  "kernelspec": {
   "display_name": "Python 3",
   "language": "python",
   "name": "python3"
  },
  "language_info": {
   "codemirror_mode": {
    "name": "ipython",
    "version": 3
   },
   "file_extension": ".py",
   "mimetype": "text/x-python",
   "name": "python",
   "nbconvert_exporter": "python",
   "pygments_lexer": "ipython3",
   "version": "3.13.2"
  }
 },
 "nbformat": 4,
 "nbformat_minor": 2
}
