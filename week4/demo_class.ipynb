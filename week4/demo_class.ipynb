{
 "cells": [
  {
   "cell_type": "code",
   "execution_count": null,
   "metadata": {},
   "outputs": [],
   "source": [
    "# define a class in Python\n",
    "# class ClassName:\n",
    "#     <body>\n",
    "# in body, we can define attributes and methods\n",
    "# attributes are variables that belong to the class\n",
    "# methods are functions that belong to the class\n",
    "# self is a reference to the current instance (object) of the class\n",
    "# special function to create a new instance (object) of a class is __init__, in other languages it is called constructor"
   ]
  },
  {
   "cell_type": "code",
   "execution_count": 1,
   "metadata": {},
   "outputs": [],
   "source": [
    "class Animal:\n",
    "    # constructor\n",
    "    def __init__(self, name):   \n",
    "        self.name = name    # define an attribute name\n",
    "    # normal method\n",
    "    def speak(self):\n",
    "        print(f'{self.name} says something')"
   ]
  },
  {
   "cell_type": "code",
   "execution_count": null,
   "metadata": {},
   "outputs": [
    {
     "name": "stdout",
     "output_type": "stream",
     "text": [
      "Dog says something\n"
     ]
    }
   ],
   "source": [
    "# create an object of Animal class\n",
    "dog = Animal('Dog') # call the constructor __init__, pass 'Dog' as argument to name\n",
    "# call the method speak\n",
    "dog.speak()"
   ]
  },
  {
   "cell_type": "code",
   "execution_count": null,
   "metadata": {},
   "outputs": [],
   "source": [
    "cat = Animal('Cat')\n",
    "cat.speak()\n",
    "dog.speak()"
   ]
  },
  {
   "cell_type": "code",
   "execution_count": 5,
   "metadata": {},
   "outputs": [
    {
     "name": "stdout",
     "output_type": "stream",
     "text": [
      "This is Dog\n",
      "This is Cat\n"
     ]
    }
   ],
   "source": [
    "# Accessing attributes\n",
    "print(f'This is {dog.name}')\n",
    "print(f'This is {cat.name}')"
   ]
  },
  {
   "cell_type": "code",
   "execution_count": 6,
   "metadata": {},
   "outputs": [
    {
     "name": "stdout",
     "output_type": "stream",
     "text": [
      "This is Poppy\n",
      "Poppy says something\n"
     ]
    }
   ],
   "source": [
    "# Changing attributes\n",
    "dog.name = 'Poppy'\n",
    "print(f'This is {dog.name}')\n",
    "dog.speak()"
   ]
  },
  {
   "cell_type": "code",
   "execution_count": 9,
   "metadata": {},
   "outputs": [],
   "source": [
    "class TVRemoteControl:\n",
    "    def __init__(self):\n",
    "        self.channel = 1\n",
    "        self.volume = 5\n",
    "    \n",
    "    def push_number(self, number):\n",
    "        if number < 1 or number > 100:\n",
    "            print('Invalid channel number')\n",
    "            return\n",
    "        self.channel = number\n",
    "    \n",
    "    def push_up(self):\n",
    "        if self.volume < 10:\n",
    "            self.volume += 1\n",
    "    \n",
    "    def push_down(self):\n",
    "        if self.volume > 0:\n",
    "            self.volume -= 1\n",
    "    \n",
    "    def play(self):\n",
    "        print(f'Playing channel {self.channel} at volume {self.volume}')"
   ]
  },
  {
   "cell_type": "code",
   "execution_count": 10,
   "metadata": {},
   "outputs": [
    {
     "name": "stdout",
     "output_type": "stream",
     "text": [
      "Playing channel 1 at volume 5\n",
      "Playing channel 5 at volume 5\n",
      "Playing channel 5 at volume 6\n"
     ]
    }
   ],
   "source": [
    "tvctrl = TVRemoteControl()\n",
    "tvctrl.play()\n",
    "tvctrl.push_number(5)\n",
    "tvctrl.play()\n",
    "tvctrl.push_up()\n",
    "tvctrl.play()"
   ]
  },
  {
   "cell_type": "code",
   "execution_count": 11,
   "metadata": {},
   "outputs": [],
   "source": [
    "# Write a class to remote control a fan\n",
    "# The fan has 3 speeds: 1, 2, 3      => attribute speed\n",
    "# The fan can be turned on or off    => attribute state\n",
    "# The fan can be rotated or not      => attribute rotation\n",
    "# methods: turn_on, turn_off, rotate, stop, increase_speed, decrease_speed\n",
    "# The fan should have a default speed of 1, state off, and rotation off\n",
    "class FanRemoteCtrl:\n",
    "    def __init__(self):\n",
    "        self.speed = 1\n",
    "        self.state = 'off'\n",
    "        self.rotation = 'off'\n",
    "    \n",
    "    def turn_on(self):\n",
    "        self.state = 'on'\n",
    "        self.show()\n",
    "    \n",
    "    def turn_off(self):\n",
    "        self.state = 'off'\n",
    "        self.show()\n",
    "    \n",
    "    def rotate(self):\n",
    "        self.rotation = 'on'\n",
    "        self.show()\n",
    "    \n",
    "    def stop(self):\n",
    "        self.rotation = 'off'\n",
    "        self.show()\n",
    "    \n",
    "    def increase(self):\n",
    "        if self.speed < 3:\n",
    "            self.speed += 1\n",
    "        self.show()\n",
    "    \n",
    "    def decrease(self):\n",
    "        if self.speed > 1:\n",
    "            self.speed -= 1\n",
    "        self.show()\n",
    "    \n",
    "    def show(self):\n",
    "        print(f'Fan is {self.state}, speed {self.speed}, rotation {self.rotation}')"
   ]
  },
  {
   "cell_type": "code",
   "execution_count": 12,
   "metadata": {},
   "outputs": [
    {
     "name": "stdout",
     "output_type": "stream",
     "text": [
      "Fan is off, speed 1, rotation off\n",
      "Fan is on, speed 1, rotation off\n",
      "Fan is on, speed 1, rotation on\n",
      "Fan is on, speed 2, rotation on\n",
      "Fan is on, speed 3, rotation on\n",
      "Fan is on, speed 2, rotation on\n",
      "Fan is on, speed 2, rotation off\n"
     ]
    }
   ],
   "source": [
    "fanctrl = FanRemoteCtrl()\n",
    "fanctrl.show()\n",
    "fanctrl.turn_on()\n",
    "fanctrl.rotate()\n",
    "fanctrl.increase()\n",
    "fanctrl.increase()\n",
    "fanctrl.decrease()\n",
    "fanctrl.stop()"
   ]
  },
  {
   "cell_type": "code",
   "execution_count": 16,
   "metadata": {},
   "outputs": [
    {
     "name": "stdout",
     "output_type": "stream",
     "text": [
      "TV Samsumg is off\n",
      "TV Samsumg is on, playing channel VTV1 at volume 5\n",
      "TV Samsumg is on, playing channel HBO at volume 5\n",
      "TV Samsumg is on, playing channel HBO at volume 6\n",
      "TV Samsumg is off\n"
     ]
    }
   ],
   "source": [
    "class TV:\n",
    "    def __init__(self, brand):\n",
    "        self.brand = brand\n",
    "        self.channels = ['VTV1', 'VTV2', 'VTV3', 'HBO', 'Star Movies', 'CNN', 'BBC', 'Discovery', 'National Geographic', 'Cartoon Network']\n",
    "        self.volume = 5\n",
    "        self.current_channel = 0\n",
    "        self.state = 'off'\n",
    "    \n",
    "    def show(self):\n",
    "        if self.state == 'off':\n",
    "            print(f'TV {self.brand} is off')\n",
    "        else:\n",
    "            print(f'TV {self.brand} is on, playing channel {self.channels[self.current_channel]} at volume {self.volume}')\n",
    "    \n",
    "    def change_channel(self, number):\n",
    "        if self.state == 'off':\n",
    "            print('TV is off')\n",
    "            return\n",
    "        if number < 0 or number >= len(self.channels):\n",
    "            print('Invalid channel number')\n",
    "            return\n",
    "        self.current_channel = number\n",
    "        self.show()\n",
    "    \n",
    "    def increase_volume(self):\n",
    "        # check if TV is off\n",
    "        if self.state == 'off':\n",
    "            print('TV is off')\n",
    "            return\n",
    "        # check if volume is at max\n",
    "        if self.volume == 10:\n",
    "            print('Volume is at maximum')\n",
    "            return\n",
    "        self.volume += 1\n",
    "        self.show()\n",
    "        # change volume and show\n",
    "\n",
    "    def decrease_volume(self):\n",
    "        # check if TV is off\n",
    "        if self.state == 'off':\n",
    "            print('TV is off')\n",
    "            return\n",
    "        # check if volume is at min\n",
    "        if self.volume == 0:\n",
    "            print('Volume is at minimum')\n",
    "            return\n",
    "        # change volume and show\n",
    "        self.volume -= 1\n",
    "        self.show()\n",
    "        \n",
    "    def switch(self):\n",
    "        # check if TV is off then turn on\n",
    "        if self.state == 'off':\n",
    "            self.state = 'on'\n",
    "            self.show()\n",
    "        else:\n",
    "            self.state = 'off'\n",
    "            self.show()\n",
    "\n",
    "\n",
    "samsung = TV('Samsumg')\n",
    "samsung.show()\n",
    "samsung.switch()\n",
    "samsung.change_channel(3)\n",
    "samsung.increase_volume()\n",
    "samsung.switch()"
   ]
  },
  {
   "cell_type": "code",
   "execution_count": 17,
   "metadata": {},
   "outputs": [
    {
     "name": "stdout",
     "output_type": "stream",
     "text": [
      "TV Samsung is on, playing channel VTV1 at volume 5\n",
      "TV Samsung is on, playing channel CNN at volume 5\n",
      "TV Samsung is on, playing channel CNN at volume 6\n",
      "TV Samsung is on, playing channel CNN at volume 7\n",
      "TV Samsung is on, playing channel CNN at volume 6\n",
      "TV Samsung is off\n"
     ]
    }
   ],
   "source": [
    "class TVRemoteControl:\n",
    "    def __init__(self, tv):\n",
    "        self.tv = tv\n",
    "    \n",
    "    def push_number(self, number):\n",
    "        self.tv.change_channel(number)\n",
    "    \n",
    "    def push_up(self):\n",
    "        self.tv.increase_volume()\n",
    "    \n",
    "    def push_down(self):\n",
    "        self.tv.decrease_volume()\n",
    "    \n",
    "    def switch(self):\n",
    "        self.tv.switch()\n",
    "\n",
    "samsung = TV('Samsung')\n",
    "remote = TVRemoteControl(samsung)\n",
    "remote.switch()\n",
    "remote.push_number(5)\n",
    "remote.push_up()\n",
    "remote.push_up()\n",
    "remote.push_down()\n",
    "remote.switch()"
   ]
  }
 ],
 "metadata": {
  "kernelspec": {
   "display_name": "Python 3",
   "language": "python",
   "name": "python3"
  },
  "language_info": {
   "codemirror_mode": {
    "name": "ipython",
    "version": 3
   },
   "file_extension": ".py",
   "mimetype": "text/x-python",
   "name": "python",
   "nbconvert_exporter": "python",
   "pygments_lexer": "ipython3",
   "version": "3.13.2"
  }
 },
 "nbformat": 4,
 "nbformat_minor": 2
}
