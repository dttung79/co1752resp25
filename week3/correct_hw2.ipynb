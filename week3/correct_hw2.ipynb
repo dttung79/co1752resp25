{
 "cells": [
  {
   "cell_type": "code",
   "execution_count": 1,
   "metadata": {},
   "outputs": [],
   "source": [
    "tasks = [\"Email\", \"Meeting\", \"Coding\", \"Review\", \"Lunch\", \"Report\", \"Call\", \"Research\", \"Presentation\", \"Planning\"]\n",
    "times = [30, 45, 60, 20, 50, 40, 35, 25, 55, 65]"
   ]
  },
  {
   "cell_type": "code",
   "execution_count": 4,
   "metadata": {},
   "outputs": [
    {
     "name": "stdout",
     "output_type": "stream",
     "text": [
      "1. Email - 30 minutes\n",
      "2. Meeting - 45 minutes\n",
      "3. Coding - 60 minutes\n",
      "4. Review - 20 minutes\n",
      "5. Lunch - 50 minutes\n",
      "6. Report - 40 minutes\n",
      "7. Call - 35 minutes\n",
      "8. Research - 25 minutes\n",
      "9. Presentation - 55 minutes\n",
      "10. Planning - 65 minutes\n"
     ]
    }
   ],
   "source": [
    "def print_tasks(tasks, times):\n",
    "    for i in range(len(tasks)):\n",
    "        print(f\"{i + 1}. {tasks[i]} - {times[i]} minutes\")\n",
    "\n",
    "print_tasks(tasks, times)"
   ]
  },
  {
   "cell_type": "code",
   "execution_count": 12,
   "metadata": {},
   "outputs": [
    {
     "name": "stdout",
     "output_type": "stream",
     "text": [
      "No tasks are longer than 90 minutes\n"
     ]
    }
   ],
   "source": [
    "def print_long_tasks(tasks, times, length=90):\n",
    "    count = 0\n",
    "    for i in range(len(tasks)):\n",
    "        if times[i] > length:\n",
    "            count += 1\n",
    "            print(f\"{count}. {tasks[i]} - {times[i]} minutes\")\n",
    "    if count == 0:\n",
    "        print(f\"No tasks are longer than {length} minutes\")\n",
    "\n",
    "print_long_tasks(tasks, times)"
   ]
  },
  {
   "cell_type": "code",
   "execution_count": 14,
   "metadata": {},
   "outputs": [
    {
     "name": "stdout",
     "output_type": "stream",
     "text": [
      "The longest task is Planning - 65 minutes\n"
     ]
    }
   ],
   "source": [
    "def print_longest_task(tasks, times):\n",
    "    longest_time = times[0]\n",
    "    longest_task = tasks[0]\n",
    "    for i in range(1, len(times)):\n",
    "        if times[i] > longest_time:\n",
    "            longest_time = times[i]\n",
    "            longest_task = tasks[i]\n",
    "    print(f\"The longest task is {longest_task} - {longest_time} minutes\")\n",
    "\n",
    "print_longest_task(tasks, times)"
   ]
  },
  {
   "cell_type": "code",
   "execution_count": 16,
   "metadata": {},
   "outputs": [
    {
     "name": "stdout",
     "output_type": "stream",
     "text": [
      "Total time to finish all tasks: 7 hours 5 minutes\n"
     ]
    }
   ],
   "source": [
    "def calculate_total(times):\n",
    "    total = 0\n",
    "    for t in times:\n",
    "        total += t\n",
    "    hours = total // 60     # integer division\n",
    "    minutes = total % 60    # remainder\n",
    "    return hours, minutes\n",
    "\n",
    "h, m = calculate_total(times)\n",
    "print(f'Total time to finish all tasks: {h} hours {m} minutes')"
   ]
  },
  {
   "cell_type": "code",
   "execution_count": 18,
   "metadata": {},
   "outputs": [
    {
     "name": "stdout",
     "output_type": "stream",
     "text": [
      "The time required for Coding is 60 minutes\n",
      "Task not found\n"
     ]
    }
   ],
   "source": [
    "def get_task_time(tasks, times, task_name):\n",
    "    for i in range(len(tasks)):\n",
    "        if tasks[i] == task_name:\n",
    "            return times[i]\n",
    "    \n",
    "    return None\n",
    "\n",
    "t = get_task_time(tasks, times, \"Coding\")\n",
    "if t is not None:\n",
    "    print(f\"The time required for Coding is {t} minutes\")\n",
    "else:\n",
    "    print(\"Task not found\")\n",
    "\n",
    "t = get_task_time(tasks, times, \"Sleeping\")\n",
    "if t is not None:\n",
    "    print(f\"The time required for Sleeping is {t} minutes\")\n",
    "else:\n",
    "    print(\"Task not found\")"
   ]
  }
 ],
 "metadata": {
  "kernelspec": {
   "display_name": "Python 3",
   "language": "python",
   "name": "python3"
  },
  "language_info": {
   "codemirror_mode": {
    "name": "ipython",
    "version": 3
   },
   "file_extension": ".py",
   "mimetype": "text/x-python",
   "name": "python",
   "nbconvert_exporter": "python",
   "pygments_lexer": "ipython3",
   "version": "3.13.2"
  }
 },
 "nbformat": 4,
 "nbformat_minor": 2
}
