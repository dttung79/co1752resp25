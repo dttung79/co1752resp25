{
 "cells": [
  {
   "cell_type": "code",
   "execution_count": null,
   "metadata": {},
   "outputs": [],
   "source": [
    "# define a function\n",
    "def hello():\n",
    "    print(\"Hello World!\")\n",
    "\n",
    "# call the function\n",
    "hello()"
   ]
  },
  {
   "cell_type": "code",
   "execution_count": null,
   "metadata": {},
   "outputs": [],
   "source": [
    "# define a function with argument\n",
    "def hello(name):\n",
    "    print(\"Hello\", name)\n",
    "\n",
    "# call the function, passing a parameter (value)\n",
    "hello(\"John\")\n",
    "name = \"Paul\"\n",
    "hello(name)"
   ]
  },
  {
   "cell_type": "code",
   "execution_count": null,
   "metadata": {},
   "outputs": [],
   "source": [
    "# define a function with default argument\n",
    "def hello(name=\"John\"):\n",
    "    print(\"Hello\", name)\n",
    "\n",
    "# call function without argument (default value is used)\n",
    "hello()\n",
    "# call function with argument\n",
    "hello(\"Paul\")"
   ]
  },
  {
   "cell_type": "code",
   "execution_count": 5,
   "metadata": {},
   "outputs": [
    {
     "name": "stdout",
     "output_type": "stream",
     "text": [
      "Name: apple, price: $1.5\n",
      "Name: banana, price: $2.5\n"
     ]
    }
   ],
   "source": [
    "# Ex: define a function with 2 arguments then call it\n",
    "def print_product(name, price):\n",
    "    print(f'Name: {name}, price: ${price}')\n",
    "\n",
    "print_product('apple', 1.5)\n",
    "product = 'banana'\n",
    "price = 2.5\n",
    "print_product(product, price)"
   ]
  },
  {
   "cell_type": "code",
   "execution_count": 6,
   "metadata": {},
   "outputs": [
    {
     "ename": "TypeError",
     "evalue": "print_product() missing 1 required positional argument: 'price'",
     "output_type": "error",
     "traceback": [
      "\u001b[0;31m---------------------------------------------------------------------------\u001b[0m",
      "\u001b[0;31mTypeError\u001b[0m                                 Traceback (most recent call last)",
      "Cell \u001b[0;32mIn[6], line 1\u001b[0m\n\u001b[0;32m----> 1\u001b[0m \u001b[43mprint_product\u001b[49m\u001b[43m(\u001b[49m\u001b[38;5;124;43m'\u001b[39;49m\u001b[38;5;124;43morange\u001b[39;49m\u001b[38;5;124;43m'\u001b[39;49m\u001b[43m)\u001b[49m\n",
      "\u001b[0;31mTypeError\u001b[0m: print_product() missing 1 required positional argument: 'price'"
     ]
    }
   ],
   "source": [
    "print_product('orange')"
   ]
  },
  {
   "cell_type": "code",
   "execution_count": 8,
   "metadata": {},
   "outputs": [
    {
     "data": {
      "text/plain": [
       "5"
      ]
     },
     "execution_count": 8,
     "metadata": {},
     "output_type": "execute_result"
    }
   ],
   "source": [
    "# define a function that returns a value\n",
    "def add(a, b):\n",
    "    return a + b\n",
    "\n",
    "add(2, 3) # it runs but the result is not stored anywhere"
   ]
  },
  {
   "cell_type": "code",
   "execution_count": 9,
   "metadata": {},
   "outputs": [
    {
     "name": "stdout",
     "output_type": "stream",
     "text": [
      "5\n"
     ]
    }
   ],
   "source": [
    "c = add(2, 3) # store the result in a variable c\n",
    "print(c)"
   ]
  },
  {
   "cell_type": "code",
   "execution_count": 11,
   "metadata": {},
   "outputs": [
    {
     "name": "stdout",
     "output_type": "stream",
     "text": [
      "5\n",
      "The maximum of 4 and 5 is 5\n"
     ]
    }
   ],
   "source": [
    "# Ex: define a function that returns the maximum of 2 numbers\n",
    "def my_max(a, b):\n",
    "    if a > b:\n",
    "        return a\n",
    "    return b\n",
    "\n",
    "print(my_max(3, 5))\n",
    "a = int(input('Enter a: '))\n",
    "b = int(input('Enter b: '))\n",
    "c = my_max(a, b)\n",
    "print(f'The maximum of {a} and {b} is {c}')"
   ]
  }
 ],
 "metadata": {
  "kernelspec": {
   "display_name": "Python 3",
   "language": "python",
   "name": "python3"
  },
  "language_info": {
   "codemirror_mode": {
    "name": "ipython",
    "version": 3
   },
   "file_extension": ".py",
   "mimetype": "text/x-python",
   "name": "python",
   "nbconvert_exporter": "python",
   "pygments_lexer": "ipython3",
   "version": "3.13.2"
  }
 },
 "nbformat": 4,
 "nbformat_minor": 2
}
