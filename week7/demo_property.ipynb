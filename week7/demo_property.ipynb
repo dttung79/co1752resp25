{
 "cells": [
  {
   "cell_type": "code",
   "execution_count": null,
   "metadata": {},
   "outputs": [],
   "source": [
    "# implement Animal with getter and setter\n",
    "class Animal:\n",
    "    def __init__(self, name, age):\n",
    "        self.__name = name  # private attribute\n",
    "        self.__age = age    # private attribute\n",
    "    \n",
    "    def speak(self):\n",
    "        print(f'{self.__name}: I am an animal, I am {self.__age} years old')\n",
    "    \n",
    "    # provide getter with better control, now outside cannot change the name to empty string\n",
    "    def set_name(self, name):\n",
    "        if name == '':\n",
    "            print('Name cannot be empty')\n",
    "        else:\n",
    "            self.__name = name\n",
    "    \n",
    "    def get_name(self):\n",
    "        return self.__name\n",
    "    \n",
    "    # similar, outside cannot change the age to negative\n",
    "    def set_age(self, age):\n",
    "        if age < 0:\n",
    "            print('Age cannot be negative')\n",
    "        else:\n",
    "            self.__age = age\n",
    "    \n",
    "    def get_age(self):\n",
    "        return self.__age"
   ]
  },
  {
   "cell_type": "code",
   "execution_count": 3,
   "metadata": {},
   "outputs": [],
   "source": [
    "# implement Animal with properties\n",
    "class Animal:\n",
    "    def __init__(self, name, age):\n",
    "        self.__name = name  # private attribute\n",
    "        self.__age = age    # private attribute\n",
    "    \n",
    "    def speak(self):\n",
    "        print(f'{self.__name}: I am an animal, I am {self.__age} years old')\n",
    "\n",
    "    @property\n",
    "    def name(self):         # getter, similar to get_name\n",
    "        return self.__name\n",
    "\n",
    "    @name.setter\n",
    "    def name(self, name):   # setter, similar to set_name\n",
    "        if name == '':\n",
    "            print('Name cannot be empty')\n",
    "        else:\n",
    "            self.__name = name\n",
    "    \n",
    "    @property\n",
    "    def age(self):          # getter, similar to get_age\n",
    "        return self.__age\n",
    "    \n",
    "    @age.setter\n",
    "    def age(self, age):     # setter, similar to set_age\n",
    "        if age < 0:\n",
    "            print('Age cannot be negative')\n",
    "        else:\n",
    "            self.__age = age"
   ]
  },
  {
   "cell_type": "code",
   "execution_count": 6,
   "metadata": {},
   "outputs": [
    {
     "name": "stdout",
     "output_type": "stream",
     "text": [
      "poodle\n",
      "husky: I am an animal, I am 3 years old\n",
      "Age cannot be negative\n",
      "husky: I am an animal, I am 3 years old\n"
     ]
    }
   ],
   "source": [
    "dog = Animal('poodle', 3)\n",
    "print(dog.name)  # access __name attribute through name property\n",
    "dog.name = 'husky'  # change __name attribute through name property\n",
    "dog.speak()\n",
    "dog.age = -1  # try to change __age attribute to negative\n",
    "dog.speak()"
   ]
  },
  {
   "cell_type": "code",
   "execution_count": null,
   "metadata": {},
   "outputs": [],
   "source": [
    "# Exercise: Create class Car with properties\n",
    "# - brand: string, cannot be empty\n",
    "# - year: int, cannot be negative\n",
    "# - mileage: int, cannot be negative"
   ]
  }
 ],
 "metadata": {
  "kernelspec": {
   "display_name": "Python 3",
   "language": "python",
   "name": "python3"
  },
  "language_info": {
   "codemirror_mode": {
    "name": "ipython",
    "version": 3
   },
   "file_extension": ".py",
   "mimetype": "text/x-python",
   "name": "python",
   "nbconvert_exporter": "python",
   "pygments_lexer": "ipython3",
   "version": "3.13.2"
  }
 },
 "nbformat": 4,
 "nbformat_minor": 2
}
