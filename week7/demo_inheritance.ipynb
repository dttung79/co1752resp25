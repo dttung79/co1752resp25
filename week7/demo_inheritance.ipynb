{
 "cells": [
  {
   "cell_type": "code",
   "execution_count": 4,
   "metadata": {},
   "outputs": [
    {
     "name": "stdout",
     "output_type": "stream",
     "text": [
      "Construct a Parent object\n",
      "My name is: Parent\n"
     ]
    }
   ],
   "source": [
    "class Parent:\n",
    "    def __init__(self, name='Parent'):\n",
    "        self.name = name\n",
    "        print('Construct a Parent object')\n",
    "\n",
    "    def display(self):\n",
    "        print('My name is:', self.name)\n",
    "\n",
    "p = Parent('Parent') # create a Parent object\n",
    "p.display() # call the display method of the Parent object"
   ]
  },
  {
   "cell_type": "code",
   "execution_count": 5,
   "metadata": {},
   "outputs": [
    {
     "name": "stdout",
     "output_type": "stream",
     "text": [
      "Construct a Parent object\n",
      "My name is: Child\n"
     ]
    }
   ],
   "source": [
    "class Child(Parent):\n",
    "    pass\n",
    "\n",
    "c = Child('Child') # create a Child object\n",
    "c.display() # call the display method of the Child object"
   ]
  },
  {
   "cell_type": "code",
   "execution_count": 10,
   "metadata": {},
   "outputs": [
    {
     "name": "stdout",
     "output_type": "stream",
     "text": [
      "Construct a Parent object\n",
      "Construct an AnotherChild object\n",
      "My name is: AnotherChild\n",
      "My age is: 10\n"
     ]
    }
   ],
   "source": [
    "class AnotherChild(Parent):\n",
    "    def __init__(self, name, age):\n",
    "        # call the __init__ method of the Parent class\n",
    "        super().__init__(name)\n",
    "        self.age = age\n",
    "        print('Construct an AnotherChild object')\n",
    "    # override the display method of the Parent class to show age\n",
    "    def display(self):\n",
    "        super().display()   # call the display method of the Parent class\n",
    "        print('My age is:', self.age)\n",
    "ac = AnotherChild('AnotherChild', 10) # create an AnotherChild object\n",
    "ac.display() # call the display method of the AnotherChild object"
   ]
  }
 ],
 "metadata": {
  "kernelspec": {
   "display_name": "Python 3",
   "language": "python",
   "name": "python3"
  },
  "language_info": {
   "codemirror_mode": {
    "name": "ipython",
    "version": 3
   },
   "file_extension": ".py",
   "mimetype": "text/x-python",
   "name": "python",
   "nbconvert_exporter": "python",
   "pygments_lexer": "ipython3",
   "version": "3.13.2"
  }
 },
 "nbformat": 4,
 "nbformat_minor": 2
}
