{
 "cells": [
  {
   "cell_type": "code",
   "execution_count": null,
   "id": "59492684",
   "metadata": {},
   "outputs": [],
   "source": [
    "# Abstraction in Python\n",
    "# 1. Abstract Class is a class that has one or more abstract methods\n",
    "# 2. Abstract Method is a method that has a declaration but does not have an implementation\n",
    "# 3. Abstract classes can be created using the abc module\n",
    "# 4. Abstract classes cannot be instantiated\n",
    "# 5. Abstract classes can be subclassed but the subclass must implement all abstract methods or it will also be considered an abstract class"
   ]
  },
  {
   "cell_type": "code",
   "execution_count": 1,
   "id": "0fd96849",
   "metadata": {},
   "outputs": [],
   "source": [
    "from abc import ABC, abstractmethod\n",
    "\n",
    "# inherits from ABC to make it an abstract class\n",
    "class AbstractParent(ABC):\n",
    "    # declares an abstract method with the @abstractmethod decorator\n",
    "    @abstractmethod\n",
    "    def do_something(self):\n",
    "        pass                # this method has no implementation\n",
    "    # abstract class can also have concrete methods\n",
    "    def do_something_else(self):\n",
    "        print(\"Doing something else\")"
   ]
  },
  {
   "cell_type": "code",
   "execution_count": null,
   "id": "d425246b",
   "metadata": {},
   "outputs": [],
   "source": [
    "# cannot instantiate an abstract class\n",
    "parent = AbstractParent()  # Error"
   ]
  },
  {
   "cell_type": "code",
   "execution_count": null,
   "id": "8dc54fe6",
   "metadata": {},
   "outputs": [],
   "source": [
    "class NormalChild(AbstractParent):\n",
    "    # implements the abstract method then it becomes a concrete class\n",
    "    def do_something(self):\n",
    "        print(\"Normal child Doing something\")"
   ]
  },
  {
   "cell_type": "code",
   "execution_count": 4,
   "id": "8343d02e",
   "metadata": {},
   "outputs": [
    {
     "name": "stdout",
     "output_type": "stream",
     "text": [
      "Normal child Doing something\n",
      "Doing something else\n"
     ]
    }
   ],
   "source": [
    "child = NormalChild()\n",
    "child.do_something()  # Normal child Doing something\n",
    "child.do_something_else()  # Doing something else"
   ]
  },
  {
   "cell_type": "code",
   "execution_count": null,
   "id": "9141f689",
   "metadata": {},
   "outputs": [
    {
     "ename": "TypeError",
     "evalue": "Can't instantiate abstract class AbstractChild without an implementation for abstract method 'do_something'",
     "output_type": "error",
     "traceback": [
      "\u001b[0;31m---------------------------------------------------------------------------\u001b[0m",
      "\u001b[0;31mTypeError\u001b[0m                                 Traceback (most recent call last)",
      "Cell \u001b[0;32mIn[5], line 5\u001b[0m\n\u001b[1;32m      2\u001b[0m     \u001b[38;5;28;01mdef\u001b[39;00m\u001b[38;5;250m \u001b[39m\u001b[38;5;21mother_method\u001b[39m(\u001b[38;5;28mself\u001b[39m):\n\u001b[1;32m      3\u001b[0m         \u001b[38;5;28mprint\u001b[39m(\u001b[38;5;124m\"\u001b[39m\u001b[38;5;124mAbstract child Doing something\u001b[39m\u001b[38;5;124m\"\u001b[39m)\n\u001b[0;32m----> 5\u001b[0m child \u001b[38;5;241m=\u001b[39m \u001b[43mAbstractChild\u001b[49m\u001b[43m(\u001b[49m\u001b[43m)\u001b[49m  \u001b[38;5;66;03m# Error\u001b[39;00m\n",
      "\u001b[0;31mTypeError\u001b[0m: Can't instantiate abstract class AbstractChild without an implementation for abstract method 'do_something'"
     ]
    }
   ],
   "source": [
    "# if subclass does not implement the abstract method, it will also be considered an abstract class\n",
    "class AbstractChild(AbstractParent):\n",
    "    def other_method(self):\n",
    "        print(\"Abstract child Doing something\")\n",
    "\n",
    "child = AbstractChild()  # Error"
   ]
  }
 ],
 "metadata": {
  "kernelspec": {
   "display_name": "Python 3",
   "language": "python",
   "name": "python3"
  },
  "language_info": {
   "codemirror_mode": {
    "name": "ipython",
    "version": 3
   },
   "file_extension": ".py",
   "mimetype": "text/x-python",
   "name": "python",
   "nbconvert_exporter": "python",
   "pygments_lexer": "ipython3",
   "version": "3.13.2"
  }
 },
 "nbformat": 4,
 "nbformat_minor": 5
}
