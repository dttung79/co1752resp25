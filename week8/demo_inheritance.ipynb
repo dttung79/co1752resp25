{
 "cells": [
  {
   "cell_type": "code",
   "execution_count": 1,
   "metadata": {},
   "outputs": [],
   "source": [
    "class GrandParent:\n",
    "    def __init__(self, gpdata):\n",
    "        self._gpdata = gpdata   # protected attribute\n",
    "        print(\"GrandParent constructor\")\n",
    "\n",
    "    def display(self):\n",
    "        print(\"GrandParent data: \", self._gpdata)\n",
    "\n",
    "class Parent(GrandParent):\n",
    "    def __init__(self, gpdata, pdata):\n",
    "        super().__init__(gpdata)    # calling GrandParent constructor to initialize gpdata\n",
    "        self._pdata = pdata   # protected attribute\n",
    "        print(\"Parent constructor\")\n",
    "\n",
    "    # overriding display method of GrandParent\n",
    "    def display(self):\n",
    "        super().display()   # calling display method of GrandParent to display gpdata\n",
    "        print(\"Parent data: \", self._pdata)\n",
    "\n",
    "class Child(Parent):\n",
    "    def __init__(self, gpdata, pdata, cdata):\n",
    "        super().__init__(gpdata, pdata)    # calling Parent constructor to initialize gpdata and pdata\n",
    "        self._cdata = cdata   # protected attribute\n",
    "        print(\"Child constructor\")\n",
    "\n",
    "    # overriding display method of Parent\n",
    "    def display(self):\n",
    "        super().display()   # calling display method of Parent to display gpdata and pdata\n",
    "        print(\"Child data: \", self._cdata)"
   ]
  },
  {
   "cell_type": "code",
   "execution_count": 2,
   "metadata": {},
   "outputs": [
    {
     "name": "stdout",
     "output_type": "stream",
     "text": [
      "GrandParent constructor\n",
      "Parent constructor\n",
      "Child constructor\n"
     ]
    }
   ],
   "source": [
    "c = Child(10, 20, 30)"
   ]
  },
  {
   "cell_type": "code",
   "execution_count": 3,
   "metadata": {},
   "outputs": [
    {
     "name": "stdout",
     "output_type": "stream",
     "text": [
      "GrandParent data:  10\n",
      "Parent data:  20\n",
      "Child data:  30\n"
     ]
    }
   ],
   "source": [
    "c.display()"
   ]
  }
 ],
 "metadata": {
  "kernelspec": {
   "display_name": "Python 3",
   "language": "python",
   "name": "python3"
  },
  "language_info": {
   "codemirror_mode": {
    "name": "ipython",
    "version": 3
   },
   "file_extension": ".py",
   "mimetype": "text/x-python",
   "name": "python",
   "nbconvert_exporter": "python",
   "pygments_lexer": "ipython3",
   "version": "3.13.2"
  }
 },
 "nbformat": 4,
 "nbformat_minor": 2
}
